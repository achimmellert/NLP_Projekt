{
 "cells": [
  {
   "cell_type": "code",
   "id": "initial_id",
   "metadata": {
    "collapsed": true,
    "ExecuteTime": {
     "end_time": "2025-10-21T08:12:40.014861Z",
     "start_time": "2025-10-21T08:12:27.503349Z"
    }
   },
   "source": [
    "# Imports\n",
    "from autogluon.multimodal import MultiModalPredictor\n",
    "import os\n",
    "import pandas as pd\n",
    "import tarfile\n",
    "from pathlib import Path\n",
    "import numpy as np\n",
    "import torch"
   ],
   "outputs": [
    {
     "name": "stderr",
     "output_type": "stream",
     "text": [
      "C:\\Users\\achim\\anaconda3\\envs\\myenv\\Lib\\site-packages\\tqdm\\auto.py:21: TqdmWarning: IProgress not found. Please update jupyter and ipywidgets. See https://ipywidgets.readthedocs.io/en/stable/user_install.html\n",
      "  from .autonotebook import tqdm as notebook_tqdm\n",
      "C:\\Users\\achim\\anaconda3\\envs\\myenv\\Lib\\site-packages\\autogluon\\multimodal\\data\\templates.py:16: UserWarning: pkg_resources is deprecated as an API. See https://setuptools.pypa.io/en/latest/pkg_resources.html. The pkg_resources package is slated for removal as early as 2025-11-30. Refrain from using this package or pin to Setuptools<81.\n",
      "  import pkg_resources\n"
     ]
    }
   ],
   "execution_count": 1
  },
  {
   "metadata": {
    "ExecuteTime": {
     "end_time": "2025-10-20T06:42:18.312893Z",
     "start_time": "2025-10-20T06:42:17.883846Z"
    }
   },
   "cell_type": "code",
   "source": [
    "import gc\n",
    "\n",
    "gc.collect()"
   ],
   "id": "7d96c06421d7ef3b",
   "outputs": [
    {
     "data": {
      "text/plain": [
       "0"
      ]
     },
     "execution_count": 10,
     "metadata": {},
     "output_type": "execute_result"
    }
   ],
   "execution_count": 10
  },
  {
   "metadata": {
    "ExecuteTime": {
     "end_time": "2025-10-21T08:16:39.725527Z",
     "start_time": "2025-10-21T08:16:03.875984Z"
    }
   },
   "cell_type": "code",
   "source": [
    "# Data Processing\n",
    "\n",
    "filename = \"amazon_review_full_csv.tar.gz\"\n",
    "filepath = Path.cwd() / \"data\" / filename\n",
    "columns = [\"Label\", \"Title\", \"Description\"]\n",
    "\n",
    "with tarfile.open(filepath, \"r:gz\") as tar:\n",
    "\n",
    "    test_file = tar.extractfile(\"amazon_review_full_csv/test.csv\")\n",
    "    df_test = pd.read_csv(test_file, header=None)\n",
    "\n",
    "    train_file = tar.extractfile(\"amazon_review_full_csv/train.csv\")\n",
    "    df_train = pd.read_csv(train_file, header=None)\n",
    "\n",
    "df_train = df_train.dropna().reset_index(drop=True)\n",
    "df_test = df_test.dropna().reset_index(drop=True)\n",
    "\n",
    "df_train.columns = columns\n",
    "df_test.columns = columns"
   ],
   "id": "f135246bcbdbaef5",
   "outputs": [],
   "execution_count": 7
  },
  {
   "metadata": {
    "ExecuteTime": {
     "end_time": "2025-10-20T06:38:22.822678Z",
     "start_time": "2025-10-20T06:38:22.815591Z"
    }
   },
   "cell_type": "code",
   "source": [
    "# Ordner-Erstellung\n",
    "\n",
    "os.makedirs(\"./Plots\", exist_ok=True)\n",
    "os.makedirs(\"./AutoGluon_Models\", exist_ok=True)\n"
   ],
   "id": "da8dba3adf8a20de",
   "outputs": [],
   "execution_count": 7
  },
  {
   "metadata": {
    "ExecuteTime": {
     "end_time": "2025-10-21T08:19:29.409250Z",
     "start_time": "2025-10-21T08:19:29.390163Z"
    }
   },
   "cell_type": "code",
   "source": "df_test.head(5)",
   "id": "85b4541c23869418",
   "outputs": [
    {
     "data": {
      "text/plain": [
       "   Label                         Title  \\\n",
       "0      1               mens ultrasheer   \n",
       "1      4       Surprisingly delightful   \n",
       "2      2  Works, but not as advertised   \n",
       "3      2                       Oh dear   \n",
       "4      2               Incorrect disc!   \n",
       "\n",
       "                                         Description  \n",
       "0  This model may be ok for sedentary types, but ...  \n",
       "1  This is a fast read filled with unexpected hum...  \n",
       "2  I bought one of these chargers..the instructio...  \n",
       "3  I was excited to find a book ostensibly about ...  \n",
       "4  I am a big JVC fan, but I do not like this mod...  "
      ],
      "text/html": [
       "<div>\n",
       "<style scoped>\n",
       "    .dataframe tbody tr th:only-of-type {\n",
       "        vertical-align: middle;\n",
       "    }\n",
       "\n",
       "    .dataframe tbody tr th {\n",
       "        vertical-align: top;\n",
       "    }\n",
       "\n",
       "    .dataframe thead th {\n",
       "        text-align: right;\n",
       "    }\n",
       "</style>\n",
       "<table border=\"1\" class=\"dataframe\">\n",
       "  <thead>\n",
       "    <tr style=\"text-align: right;\">\n",
       "      <th></th>\n",
       "      <th>Label</th>\n",
       "      <th>Title</th>\n",
       "      <th>Description</th>\n",
       "    </tr>\n",
       "  </thead>\n",
       "  <tbody>\n",
       "    <tr>\n",
       "      <th>0</th>\n",
       "      <td>1</td>\n",
       "      <td>mens ultrasheer</td>\n",
       "      <td>This model may be ok for sedentary types, but ...</td>\n",
       "    </tr>\n",
       "    <tr>\n",
       "      <th>1</th>\n",
       "      <td>4</td>\n",
       "      <td>Surprisingly delightful</td>\n",
       "      <td>This is a fast read filled with unexpected hum...</td>\n",
       "    </tr>\n",
       "    <tr>\n",
       "      <th>2</th>\n",
       "      <td>2</td>\n",
       "      <td>Works, but not as advertised</td>\n",
       "      <td>I bought one of these chargers..the instructio...</td>\n",
       "    </tr>\n",
       "    <tr>\n",
       "      <th>3</th>\n",
       "      <td>2</td>\n",
       "      <td>Oh dear</td>\n",
       "      <td>I was excited to find a book ostensibly about ...</td>\n",
       "    </tr>\n",
       "    <tr>\n",
       "      <th>4</th>\n",
       "      <td>2</td>\n",
       "      <td>Incorrect disc!</td>\n",
       "      <td>I am a big JVC fan, but I do not like this mod...</td>\n",
       "    </tr>\n",
       "  </tbody>\n",
       "</table>\n",
       "</div>"
      ]
     },
     "execution_count": 9,
     "metadata": {},
     "output_type": "execute_result"
    }
   ],
   "execution_count": 9
  },
  {
   "metadata": {
    "jupyter": {
     "is_executing": true
    },
    "ExecuteTime": {
     "start_time": "2025-10-20T06:42:53.665692Z"
    }
   },
   "cell_type": "code",
   "source": [
    "# Training mit AutoGluon\n",
    "\n",
    "os.makedirs(\"./AutoGluon_Models\", exist_ok=True)\n",
    "\n",
    "predictor = MultiModalPredictor(label=\"Label\",\n",
    "                                problem_type=\"classification\",\n",
    "                                path=\"./AutoGluon_Models\",\n",
    "                                presets=\"medium_quality\",\n",
    "                                verbosity=2,\n",
    "                                enable_progress_bar=True,\n",
    "                                eval_metric=\"accuracy\",\n",
    "                                use_ensemble=False)\n",
    "\n",
    "predictor.fit(train_data=df_train,\n",
    "              time_limit=60 * 60 * 24, # Begrenzt auf 24h Training\n",
    "              seed=42,\n",
    "              column_types={\"Title\": \"text\", \"Description\": \"text\"})\n"
   ],
   "id": "535f49152189c578",
   "outputs": [
    {
     "name": "stderr",
     "output_type": "stream",
     "text": [
      "=================== System Info ===================\n",
      "AutoGluon Version:  1.4.0\n",
      "Python Version:     3.11.13\n",
      "Operating System:   Windows\n",
      "Platform Machine:   AMD64\n",
      "Platform Version:   10.0.26100\n",
      "CPU Count:          16\n",
      "Pytorch Version:    2.4.1+cu121\n",
      "CUDA Version:       12.1\n",
      "GPU Count:          1\n",
      "Memory Avail:       3.94 GB / 15.42 GB (25.6%)\n",
      "Disk Space Avail:   170.39 GB / 453.16 GB (37.6%)\n",
      "===================================================\n",
      "AutoGluon infers your prediction problem is: 'multiclass' (because dtype of label-column == int, but few unique label-values observed).\n",
      "\t5 unique label values:  [np.int64(3), np.int64(5), np.int64(4), np.int64(1), np.int64(2)]\n",
      "\tIf 'multiclass' is not the correct problem_type, please manually specify the problem_type parameter during Predictor init (You may specify problem_type as one of: ['binary', 'multiclass', 'regression', 'quantile'])\n",
      "\n",
      "AutoMM starts to create your model. ✨✨✨\n",
      "\n",
      "To track the learning progress, you can open a terminal and launch Tensorboard:\n",
      "    ```shell\n",
      "    # Assume you have installed tensorboard\n",
      "    tensorboard --logdir C:\\Users\\achim\\PycharmProjects\\AutoGluon\\AutoGluon_Models\n",
      "    ```\n",
      "\n",
      "Seed set to 42\n",
      "GPU Count: 1\n",
      "GPU Count to be Used: 1\n",
      "\n",
      "Using 16bit Automatic Mixed Precision (AMP)\n",
      "GPU available: True (cuda), used: True\n",
      "TPU available: False, using: 0 TPU cores\n",
      "HPU available: False, using: 0 HPUs\n",
      "LOCAL_RANK: 0 - CUDA_VISIBLE_DEVICES: [0]\n",
      "C:\\Users\\achim\\anaconda3\\envs\\myenv\\Lib\\site-packages\\lightning\\pytorch\\utilities\\model_summary\\model_summary.py:231: Precision 16-mixed is not supported by the model summary.  Estimated model size in MB will not be accurate. Using 32 bits instead.\n",
      "\n",
      "  | Name              | Type                         | Params | Mode \n",
      "---------------------------------------------------------------------------\n",
      "0 | model             | HFAutoModelForTextPrediction | 13.5 M | train\n",
      "1 | validation_metric | MulticlassAccuracy           | 0      | train\n",
      "2 | loss_func         | CrossEntropyLoss             | 0      | train\n",
      "---------------------------------------------------------------------------\n",
      "13.5 M    Trainable params\n",
      "0         Non-trainable params\n",
      "13.5 M    Total params\n",
      "53.937    Total estimated model params size (MB)\n",
      "230       Modules in train mode\n",
      "0         Modules in eval mode\n"
     ]
    },
    {
     "name": "stdout",
     "output_type": "stream",
     "text": [
      "                                                                           \r"
     ]
    }
   ],
   "execution_count": null
  },
  {
   "metadata": {
    "ExecuteTime": {
     "end_time": "2025-10-21T08:13:31.414972Z",
     "start_time": "2025-10-21T08:13:28.235038Z"
    }
   },
   "cell_type": "code",
   "source": [
    "# Evaluation der AutoGluon Models\n",
    "\n",
    "predictor = MultiModalPredictor.load(\"./AutoGluon_Models\")\n"
   ],
   "id": "d759e8359ff50fba",
   "outputs": [
    {
     "name": "stderr",
     "output_type": "stream",
     "text": [
      "Load pretrained checkpoint: C:\\Users\\achim\\PycharmProjects\\AutoGluon\\AutoGluon_Models\\model.ckpt\n"
     ]
    }
   ],
   "execution_count": 3
  },
  {
   "metadata": {
    "ExecuteTime": {
     "end_time": "2025-10-21T09:00:42.695876Z",
     "start_time": "2025-10-21T08:51:06.080320Z"
    }
   },
   "cell_type": "code",
   "source": [
    "test_sample = df_test[[\"Title\", \"Description\"]]\n",
    "\n",
    "y_pred = predictor.predict(test_sample, as_pandas=True)\n",
    "\n",
    "from sklearn.metrics import classification_report\n",
    "\n",
    "report = classification_report(df_test[\"Label\"], y_pred)\n"
   ],
   "id": "ffe8cb7725af13d",
   "outputs": [
    {
     "name": "stderr",
     "output_type": "stream",
     "text": [
      "💡 Tip: For seamless cloud uploads and versioning, try installing [litmodels](https://pypi.org/project/litmodels/) to enable LitModelCheckpoint, which syncs automatically with the Lightning model registry.\n"
     ]
    },
    {
     "name": "stdout",
     "output_type": "stream",
     "text": [
      "Predicting DataLoader 0: 100%|██████████| 20312/20312 [09:15<00:00, 36.58it/s]\n"
     ]
    }
   ],
   "execution_count": 24
  },
  {
   "metadata": {
    "ExecuteTime": {
     "end_time": "2025-10-21T09:01:50.540175Z",
     "start_time": "2025-10-21T09:01:50.524975Z"
    }
   },
   "cell_type": "code",
   "source": [
    "from rich import print\n",
    "print(report)"
   ],
   "id": "1be4ce44162803d6",
   "outputs": [
    {
     "data": {
      "text/plain": [
       "              precision    recall  f1-score   support\n",
       "\n",
       "           \u001B[1;36m1\u001B[0m       \u001B[1;36m0.75\u001B[0m      \u001B[1;36m0.72\u001B[0m      \u001B[1;36m0.73\u001B[0m    \u001B[1;36m129998\u001B[0m\n",
       "           \u001B[1;36m2\u001B[0m       \u001B[1;36m0.58\u001B[0m      \u001B[1;36m0.58\u001B[0m      \u001B[1;36m0.58\u001B[0m    \u001B[1;36m129995\u001B[0m\n",
       "           \u001B[1;36m3\u001B[0m       \u001B[1;36m0.60\u001B[0m      \u001B[1;36m0.59\u001B[0m      \u001B[1;36m0.59\u001B[0m    \u001B[1;36m129999\u001B[0m\n",
       "           \u001B[1;36m4\u001B[0m       \u001B[1;36m0.61\u001B[0m      \u001B[1;36m0.61\u001B[0m      \u001B[1;36m0.61\u001B[0m    \u001B[1;36m129991\u001B[0m\n",
       "           \u001B[1;36m5\u001B[0m       \u001B[1;36m0.74\u001B[0m      \u001B[1;36m0.77\u001B[0m      \u001B[1;36m0.75\u001B[0m    \u001B[1;36m129991\u001B[0m\n",
       "\n",
       "    accuracy                           \u001B[1;36m0.65\u001B[0m    \u001B[1;36m649974\u001B[0m\n",
       "   macro avg       \u001B[1;36m0.65\u001B[0m      \u001B[1;36m0.65\u001B[0m      \u001B[1;36m0.65\u001B[0m    \u001B[1;36m649974\u001B[0m\n",
       "weighted avg       \u001B[1;36m0.65\u001B[0m      \u001B[1;36m0.65\u001B[0m      \u001B[1;36m0.65\u001B[0m    \u001B[1;36m649974\u001B[0m\n",
       "\n"
      ],
      "text/html": [
       "<pre style=\"white-space:pre;overflow-x:auto;line-height:normal;font-family:Menlo,'DejaVu Sans Mono',consolas,'Courier New',monospace\">              precision    recall  f1-score   support\n",
       "\n",
       "           <span style=\"color: #008080; text-decoration-color: #008080; font-weight: bold\">1</span>       <span style=\"color: #008080; text-decoration-color: #008080; font-weight: bold\">0.75</span>      <span style=\"color: #008080; text-decoration-color: #008080; font-weight: bold\">0.72</span>      <span style=\"color: #008080; text-decoration-color: #008080; font-weight: bold\">0.73</span>    <span style=\"color: #008080; text-decoration-color: #008080; font-weight: bold\">129998</span>\n",
       "           <span style=\"color: #008080; text-decoration-color: #008080; font-weight: bold\">2</span>       <span style=\"color: #008080; text-decoration-color: #008080; font-weight: bold\">0.58</span>      <span style=\"color: #008080; text-decoration-color: #008080; font-weight: bold\">0.58</span>      <span style=\"color: #008080; text-decoration-color: #008080; font-weight: bold\">0.58</span>    <span style=\"color: #008080; text-decoration-color: #008080; font-weight: bold\">129995</span>\n",
       "           <span style=\"color: #008080; text-decoration-color: #008080; font-weight: bold\">3</span>       <span style=\"color: #008080; text-decoration-color: #008080; font-weight: bold\">0.60</span>      <span style=\"color: #008080; text-decoration-color: #008080; font-weight: bold\">0.59</span>      <span style=\"color: #008080; text-decoration-color: #008080; font-weight: bold\">0.59</span>    <span style=\"color: #008080; text-decoration-color: #008080; font-weight: bold\">129999</span>\n",
       "           <span style=\"color: #008080; text-decoration-color: #008080; font-weight: bold\">4</span>       <span style=\"color: #008080; text-decoration-color: #008080; font-weight: bold\">0.61</span>      <span style=\"color: #008080; text-decoration-color: #008080; font-weight: bold\">0.61</span>      <span style=\"color: #008080; text-decoration-color: #008080; font-weight: bold\">0.61</span>    <span style=\"color: #008080; text-decoration-color: #008080; font-weight: bold\">129991</span>\n",
       "           <span style=\"color: #008080; text-decoration-color: #008080; font-weight: bold\">5</span>       <span style=\"color: #008080; text-decoration-color: #008080; font-weight: bold\">0.74</span>      <span style=\"color: #008080; text-decoration-color: #008080; font-weight: bold\">0.77</span>      <span style=\"color: #008080; text-decoration-color: #008080; font-weight: bold\">0.75</span>    <span style=\"color: #008080; text-decoration-color: #008080; font-weight: bold\">129991</span>\n",
       "\n",
       "    accuracy                           <span style=\"color: #008080; text-decoration-color: #008080; font-weight: bold\">0.65</span>    <span style=\"color: #008080; text-decoration-color: #008080; font-weight: bold\">649974</span>\n",
       "   macro avg       <span style=\"color: #008080; text-decoration-color: #008080; font-weight: bold\">0.65</span>      <span style=\"color: #008080; text-decoration-color: #008080; font-weight: bold\">0.65</span>      <span style=\"color: #008080; text-decoration-color: #008080; font-weight: bold\">0.65</span>    <span style=\"color: #008080; text-decoration-color: #008080; font-weight: bold\">649974</span>\n",
       "weighted avg       <span style=\"color: #008080; text-decoration-color: #008080; font-weight: bold\">0.65</span>      <span style=\"color: #008080; text-decoration-color: #008080; font-weight: bold\">0.65</span>      <span style=\"color: #008080; text-decoration-color: #008080; font-weight: bold\">0.65</span>    <span style=\"color: #008080; text-decoration-color: #008080; font-weight: bold\">649974</span>\n",
       "\n",
       "</pre>\n"
      ]
     },
     "metadata": {},
     "output_type": "display_data"
    }
   ],
   "execution_count": 25
  }
 ],
 "metadata": {
  "kernelspec": {
   "display_name": "Python 3",
   "language": "python",
   "name": "python3"
  },
  "language_info": {
   "codemirror_mode": {
    "name": "ipython",
    "version": 2
   },
   "file_extension": ".py",
   "mimetype": "text/x-python",
   "name": "python",
   "nbconvert_exporter": "python",
   "pygments_lexer": "ipython2",
   "version": "2.7.6"
  }
 },
 "nbformat": 4,
 "nbformat_minor": 5
}
